{
 "cells": [
  {
   "cell_type": "code",
   "execution_count": 1,
   "metadata": {},
   "outputs": [],
   "source": [
    "import pandas as pd\n",
    "import numpy as np \n",
    "import matplotlib.pyplot as plt\n",
    "import matplotlib.pyplot as mpl\n",
    "from sklearn import linear_model\n",
    "import seaborn as sns\n",
    "from sklearn.preprocessing import StandardScaler\n",
    "\n",
    "import math\n"
   ]
  },
  {
   "cell_type": "code",
   "execution_count": 2,
   "metadata": {},
   "outputs": [
    {
     "data": {
      "text/plain": [
       "(129, 16)"
      ]
     },
     "execution_count": 2,
     "metadata": {},
     "output_type": "execute_result"
    }
   ],
   "source": [
    "data = pd.read_csv(\"followers_top_final.csv\")\n",
    "data.shape"
   ]
  },
  {
   "cell_type": "code",
   "execution_count": 4,
   "metadata": {},
   "outputs": [
    {
     "data": {
      "text/html": [
       "<div>\n",
       "<style scoped>\n",
       "    .dataframe tbody tr th:only-of-type {\n",
       "        vertical-align: middle;\n",
       "    }\n",
       "\n",
       "    .dataframe tbody tr th {\n",
       "        vertical-align: top;\n",
       "    }\n",
       "\n",
       "    .dataframe thead th {\n",
       "        text-align: right;\n",
       "    }\n",
       "</style>\n",
       "<table border=\"1\" class=\"dataframe\">\n",
       "  <thead>\n",
       "    <tr style=\"text-align: right;\">\n",
       "      <th></th>\n",
       "      <th>ranking</th>\n",
       "      <th>username</th>\n",
       "      <th>categories</th>\n",
       "      <th>engagement</th>\n",
       "      <th>engagement_activity</th>\n",
       "      <th>followers</th>\n",
       "      <th>following</th>\n",
       "      <th>total_posts</th>\n",
       "      <th>channel_associated_on_bio</th>\n",
       "      <th>time_on_app_years</th>\n",
       "      <th>latest_post</th>\n",
       "      <th>post_type</th>\n",
       "      <th>likes_per_post</th>\n",
       "      <th>comments_per_post</th>\n",
       "      <th>partnership_posts</th>\n",
       "      <th>date_post</th>\n",
       "    </tr>\n",
       "  </thead>\n",
       "  <tbody>\n",
       "    <tr>\n",
       "      <th>0</th>\n",
       "      <td>1</td>\n",
       "      <td>@anitta</td>\n",
       "      <td>Art', 'Music', 'Singer'</td>\n",
       "      <td>0.7</td>\n",
       "      <td>4.435951</td>\n",
       "      <td>63300000</td>\n",
       "      <td>3019</td>\n",
       "      <td>5191</td>\n",
       "      <td>1</td>\n",
       "      <td>10</td>\n",
       "      <td>1</td>\n",
       "      <td>caroussel</td>\n",
       "      <td>546000</td>\n",
       "      <td>8557</td>\n",
       "      <td>1</td>\n",
       "      <td>9/11/2022</td>\n",
       "    </tr>\n",
       "    <tr>\n",
       "      <th>1</th>\n",
       "      <td>1</td>\n",
       "      <td>@anitta</td>\n",
       "      <td>Art', 'Music', 'Singer'</td>\n",
       "      <td>0.7</td>\n",
       "      <td>4.435951</td>\n",
       "      <td>63300000</td>\n",
       "      <td>3019</td>\n",
       "      <td>5191</td>\n",
       "      <td>1</td>\n",
       "      <td>10</td>\n",
       "      <td>2</td>\n",
       "      <td>caroussel</td>\n",
       "      <td>1400000</td>\n",
       "      <td>14400</td>\n",
       "      <td>0</td>\n",
       "      <td>7/11/2022</td>\n",
       "    </tr>\n",
       "    <tr>\n",
       "      <th>2</th>\n",
       "      <td>1</td>\n",
       "      <td>@anitta</td>\n",
       "      <td>Art', 'Music', 'Singer'</td>\n",
       "      <td>0.7</td>\n",
       "      <td>4.435951</td>\n",
       "      <td>63300000</td>\n",
       "      <td>3019</td>\n",
       "      <td>5191</td>\n",
       "      <td>1</td>\n",
       "      <td>10</td>\n",
       "      <td>3</td>\n",
       "      <td>caroussel</td>\n",
       "      <td>829000</td>\n",
       "      <td>10000</td>\n",
       "      <td>1</td>\n",
       "      <td>5/11/2022</td>\n",
       "    </tr>\n",
       "    <tr>\n",
       "      <th>3</th>\n",
       "      <td>2</td>\n",
       "      <td>@whinderssonnunes</td>\n",
       "      <td>Celebrity', 'Comedy', 'Comedian'</td>\n",
       "      <td>0.7</td>\n",
       "      <td>1.147392</td>\n",
       "      <td>58400000</td>\n",
       "      <td>1859</td>\n",
       "      <td>2785</td>\n",
       "      <td>0</td>\n",
       "      <td>9</td>\n",
       "      <td>1</td>\n",
       "      <td>video</td>\n",
       "      <td>9928</td>\n",
       "      <td>113</td>\n",
       "      <td>1</td>\n",
       "      <td>8/11/2022</td>\n",
       "    </tr>\n",
       "    <tr>\n",
       "      <th>4</th>\n",
       "      <td>2</td>\n",
       "      <td>@whinderssonnunes</td>\n",
       "      <td>Celebrity', 'Comedy', 'Comedian'</td>\n",
       "      <td>0.7</td>\n",
       "      <td>1.147392</td>\n",
       "      <td>58400000</td>\n",
       "      <td>1859</td>\n",
       "      <td>2785</td>\n",
       "      <td>0</td>\n",
       "      <td>9</td>\n",
       "      <td>2</td>\n",
       "      <td>video</td>\n",
       "      <td>632000</td>\n",
       "      <td>5379</td>\n",
       "      <td>0</td>\n",
       "      <td>7/11/2022</td>\n",
       "    </tr>\n",
       "  </tbody>\n",
       "</table>\n",
       "</div>"
      ],
      "text/plain": [
       "   ranking           username                        categories  engagement  \\\n",
       "0        1            @anitta           Art', 'Music', 'Singer'         0.7   \n",
       "1        1            @anitta           Art', 'Music', 'Singer'         0.7   \n",
       "2        1            @anitta           Art', 'Music', 'Singer'         0.7   \n",
       "3        2  @whinderssonnunes  Celebrity', 'Comedy', 'Comedian'         0.7   \n",
       "4        2  @whinderssonnunes  Celebrity', 'Comedy', 'Comedian'         0.7   \n",
       "\n",
       "   engagement_activity  followers  following  total_posts  \\\n",
       "0             4.435951   63300000       3019         5191   \n",
       "1             4.435951   63300000       3019         5191   \n",
       "2             4.435951   63300000       3019         5191   \n",
       "3             1.147392   58400000       1859         2785   \n",
       "4             1.147392   58400000       1859         2785   \n",
       "\n",
       "   channel_associated_on_bio  time_on_app_years  latest_post  post_type  \\\n",
       "0                          1                 10            1  caroussel   \n",
       "1                          1                 10            2  caroussel   \n",
       "2                          1                 10            3  caroussel   \n",
       "3                          0                  9            1      video   \n",
       "4                          0                  9            2      video   \n",
       "\n",
       "   likes_per_post  comments_per_post  partnership_posts  date_post  \n",
       "0          546000               8557                  1  9/11/2022  \n",
       "1         1400000              14400                  0  7/11/2022  \n",
       "2          829000              10000                  1  5/11/2022  \n",
       "3            9928                113                  1  8/11/2022  \n",
       "4          632000               5379                  0  7/11/2022  "
      ]
     },
     "execution_count": 4,
     "metadata": {},
     "output_type": "execute_result"
    }
   ],
   "source": [
    "data.head()"
   ]
  },
  {
   "cell_type": "code",
   "execution_count": 5,
   "metadata": {},
   "outputs": [
    {
     "data": {
      "text/plain": [
       "ranking                        int64\n",
       "username                      object\n",
       "categories                    object\n",
       "engagement                   float64\n",
       "engagement_activity          float64\n",
       "followers                      int64\n",
       "following                      int64\n",
       "total_posts                    int64\n",
       "channel_associated_on_bio      int64\n",
       "time_on_app_years              int64\n",
       "latest_post                    int64\n",
       "post_type                     object\n",
       "likes_per_post                 int64\n",
       "comments_per_post              int64\n",
       "partnership_posts              int64\n",
       "date_post                     object\n",
       "dtype: object"
      ]
     },
     "execution_count": 5,
     "metadata": {},
     "output_type": "execute_result"
    }
   ],
   "source": [
    "data.dtypes\n"
   ]
  },
  {
   "cell_type": "code",
   "execution_count": 6,
   "metadata": {},
   "outputs": [
    {
     "name": "stdout",
     "output_type": "stream",
     "text": [
      "21.46753247\n",
      "0.258636816\n",
      "5.894679660279073\n",
      "4.037955414\n"
     ]
    }
   ],
   "source": [
    "print(data[\"engagement_activity\"].max())\n",
    "print(data[\"engagement_activity\"].min())\n",
    "print(data[\"engagement_activity\"].mean())\n",
    "print(data[\"engagement_activity\"].median())"
   ]
  },
  {
   "cell_type": "code",
   "execution_count": 7,
   "metadata": {},
   "outputs": [
    {
     "data": {
      "image/png": "[encoded data removed]",
      "text/plain": [
       "<Figure size 900x300 with 3 Axes>"
      ]
     },
     "metadata": {},
     "output_type": "display_data"
    }
   ],
   "source": [
    "graph2 = sns.FacetGrid(data, col='post_type')\n",
    "graph2.map(plt.hist, 'engagement_activity')\n",
    "plt.show()"
   ]
  },
  {
   "cell_type": "code",
   "execution_count": 8,
   "metadata": {},
   "outputs": [
    {
     "ename": "TypeError",
     "evalue": "boxplot() takes from 0 to 1 positional arguments but 2 were given",
     "output_type": "error",
     "traceback": [
      "\u001b[1;31m---------------------------------------------------------------------------\u001b[0m",
      "\u001b[1;31mTypeError\u001b[0m                                 Traceback (most recent call last)",
      "Cell \u001b[1;32mIn [8], line 1\u001b[0m\n\u001b[1;32m----> 1\u001b[0m sns\u001b[39m.\u001b[39;49mboxplot(data\u001b[39m.\u001b[39;49mpost_type, data\u001b[39m.\u001b[39;49mengagement_activity)\n\u001b[0;32m      2\u001b[0m plt\u001b[39m.\u001b[39mshow()\n",
      "\u001b[1;31mTypeError\u001b[0m: boxplot() takes from 0 to 1 positional arguments but 2 were given"
     ]
    }
   ],
   "source": [
    "# sns.boxplot(data.post_type, data.engagement_activity)\n",
    "# plt.show()"
   ]
  },
  {
   "cell_type": "code",
   "execution_count": null,
   "metadata": {},
   "outputs": [
    {
     "data": {
      "image/png": "[encoded data removed]",
      "text/plain": [
       "<Figure size 640x480 with 1 Axes>"
      ]
     },
     "metadata": {},
     "output_type": "display_data"
    }
   ],
   "source": [
    "# plt.boxplot(data.engagement_activity)\n",
    "# plt.show()"
   ]
  },
  {
   "cell_type": "code",
   "execution_count": null,
   "metadata": {},
   "outputs": [
    {
     "name": "stderr",
     "output_type": "stream",
     "text": [
      "c:\\Users\\Cristiana\\anaconda3\\envs\\ironhack\\lib\\site-packages\\seaborn\\_decorators.py:36: FutureWarning: Pass the following variable as a keyword arg: x. From version 0.12, the only valid positional argument will be `data`, and passing other arguments without an explicit keyword will result in an error or misinterpretation.\n",
      "  warnings.warn(\n"
     ]
    },
    {
     "data": {
      "image/png": "[encoded data removed]",
      "text/plain": [
       "<Figure size 640x480 with 1 Axes>"
      ]
     },
     "metadata": {},
     "output_type": "display_data"
    }
   ],
   "source": [
    "# sns.violinplot(data.engagement_activity)\n",
    "# plt.show()"
   ]
  },
  {
   "cell_type": "code",
   "execution_count": null,
   "metadata": {},
   "outputs": [],
   "source": [
    "# average_comments_per_post = data.pivot_table(index=[\"ranking\", \"username\"], values=[\"comments_per_post\"], aggfunc= {\"comments_per_post\" : [\"sum\", \"mean\", \"median\", \"min\", \"max\"]})\n",
    "# average_comments_per_post\n",
    "# average_comments_per_post\n",
    "# # create new columns then"
   ]
  },
  {
   "cell_type": "code",
   "execution_count": null,
   "metadata": {},
   "outputs": [],
   "source": [
    "# average_comments_per_post.columns"
   ]
  },
  {
   "cell_type": "code",
   "execution_count": null,
   "metadata": {},
   "outputs": [],
   "source": [
    "# average_comments_per_post.columns = average_comments_per_post.columns.droplevel()"
   ]
  },
  {
   "cell_type": "code",
   "execution_count": null,
   "metadata": {},
   "outputs": [],
   "source": [
    "# average_comments_per_post.columns = [\"max_comment\", \"mean_comment\", \"median_comment\", \"min_comment\", \"sum_comment\"]"
   ]
  },
  {
   "cell_type": "code",
   "execution_count": null,
   "metadata": {},
   "outputs": [],
   "source": [
    "# average_comments_per_post.loc[1][\"sum_comment\"]"
   ]
  },
  {
   "cell_type": "code",
   "execution_count": null,
   "metadata": {},
   "outputs": [
    {
     "name": "stderr",
     "output_type": "stream",
     "text": [
      "C:\\Users\\Cristiana\\AppData\\Local\\Temp\\ipykernel_3208\\1188251951.py:1: FutureWarning: Dropping of nuisance columns in DataFrame reductions (with 'numeric_only=None') is deprecated; in a future version this will raise TypeError.  Select only valid columns before calling the reduction.\n",
      "  data.skew()\n"
     ]
    },
    {
     "data": {
      "text/plain": [
       "ranking                      0.000000\n",
       "engagement                   2.584288\n",
       "engagement_activity          1.273515\n",
       "followers                    1.072294\n",
       "following                    0.837986\n",
       "total_posts                  1.395286\n",
       "channel_associated_on_bio   -0.141527\n",
       "time_on_app_years           -0.864870\n",
       "latest_post                  0.000000\n",
       "likes_per_post               3.753744\n",
       "comments_per_post            4.176843\n",
       "partnership_posts            0.753224\n",
       "dtype: float64"
      ]
     },
     "execution_count": 106,
     "metadata": {},
     "output_type": "execute_result"
    }
   ],
   "source": [
    "data.skew()"
   ]
  },
  {
   "cell_type": "code",
   "execution_count": null,
   "metadata": {},
   "outputs": [
    {
     "name": "stderr",
     "output_type": "stream",
     "text": [
      "c:\\Users\\Cristiana\\anaconda3\\envs\\ironhack\\lib\\site-packages\\seaborn\\distributions.py:2619: FutureWarning: `distplot` is a deprecated function and will be removed in a future version. Please adapt your code to use either `displot` (a figure-level function with similar flexibility) or `histplot` (an axes-level function for histograms).\n",
      "  warnings.warn(msg, FutureWarning)\n"
     ]
    },
    {
     "data": {
      "image/png": "[encoded data removed]",
      "text/plain": [
       "<Figure size 640x480 with 1 Axes>"
      ]
     },
     "metadata": {},
     "output_type": "display_data"
    }
   ],
   "source": [
    "# sns.distplot(data[\"engagement_activity\"])\n",
    "# plt.show()"
   ]
  },
  {
   "cell_type": "code",
   "execution_count": 10,
   "metadata": {},
   "outputs": [
    {
     "data": {
      "text/html": [
       "<div>\n",
       "<style scoped>\n",
       "    .dataframe tbody tr th:only-of-type {\n",
       "        vertical-align: middle;\n",
       "    }\n",
       "\n",
       "    .dataframe tbody tr th {\n",
       "        vertical-align: top;\n",
       "    }\n",
       "\n",
       "    .dataframe thead th {\n",
       "        text-align: right;\n",
       "    }\n",
       "</style>\n",
       "<table border=\"1\" class=\"dataframe\">\n",
       "  <thead>\n",
       "    <tr style=\"text-align: right;\">\n",
       "      <th></th>\n",
       "      <th>ranking</th>\n",
       "      <th>engagement</th>\n",
       "      <th>engagement_activity</th>\n",
       "      <th>followers</th>\n",
       "      <th>following</th>\n",
       "      <th>total_posts</th>\n",
       "      <th>channel_associated_on_bio</th>\n",
       "      <th>time_on_app_years</th>\n",
       "      <th>latest_post</th>\n",
       "      <th>likes_per_post</th>\n",
       "      <th>comments_per_post</th>\n",
       "      <th>partnership_posts</th>\n",
       "    </tr>\n",
       "  </thead>\n",
       "  <tbody>\n",
       "    <tr>\n",
       "      <th>0</th>\n",
       "      <td>1</td>\n",
       "      <td>0.7</td>\n",
       "      <td>4.435951</td>\n",
       "      <td>63300000</td>\n",
       "      <td>3019</td>\n",
       "      <td>5191</td>\n",
       "      <td>1</td>\n",
       "      <td>10</td>\n",
       "      <td>1</td>\n",
       "      <td>546000</td>\n",
       "      <td>8557</td>\n",
       "      <td>1</td>\n",
       "    </tr>\n",
       "    <tr>\n",
       "      <th>1</th>\n",
       "      <td>1</td>\n",
       "      <td>0.7</td>\n",
       "      <td>4.435951</td>\n",
       "      <td>63300000</td>\n",
       "      <td>3019</td>\n",
       "      <td>5191</td>\n",
       "      <td>1</td>\n",
       "      <td>10</td>\n",
       "      <td>2</td>\n",
       "      <td>1400000</td>\n",
       "      <td>14400</td>\n",
       "      <td>0</td>\n",
       "    </tr>\n",
       "    <tr>\n",
       "      <th>2</th>\n",
       "      <td>1</td>\n",
       "      <td>0.7</td>\n",
       "      <td>4.435951</td>\n",
       "      <td>63300000</td>\n",
       "      <td>3019</td>\n",
       "      <td>5191</td>\n",
       "      <td>1</td>\n",
       "      <td>10</td>\n",
       "      <td>3</td>\n",
       "      <td>829000</td>\n",
       "      <td>10000</td>\n",
       "      <td>1</td>\n",
       "    </tr>\n",
       "    <tr>\n",
       "      <th>3</th>\n",
       "      <td>2</td>\n",
       "      <td>0.7</td>\n",
       "      <td>1.147392</td>\n",
       "      <td>58400000</td>\n",
       "      <td>1859</td>\n",
       "      <td>2785</td>\n",
       "      <td>0</td>\n",
       "      <td>9</td>\n",
       "      <td>1</td>\n",
       "      <td>9928</td>\n",
       "      <td>113</td>\n",
       "      <td>1</td>\n",
       "    </tr>\n",
       "    <tr>\n",
       "      <th>4</th>\n",
       "      <td>2</td>\n",
       "      <td>0.7</td>\n",
       "      <td>1.147392</td>\n",
       "      <td>58400000</td>\n",
       "      <td>1859</td>\n",
       "      <td>2785</td>\n",
       "      <td>0</td>\n",
       "      <td>9</td>\n",
       "      <td>2</td>\n",
       "      <td>632000</td>\n",
       "      <td>5379</td>\n",
       "      <td>0</td>\n",
       "    </tr>\n",
       "  </tbody>\n",
       "</table>\n",
       "</div>"
      ],
      "text/plain": [
       "   ranking  engagement  engagement_activity  followers  following  \\\n",
       "0        1         0.7             4.435951   63300000       3019   \n",
       "1        1         0.7             4.435951   63300000       3019   \n",
       "2        1         0.7             4.435951   63300000       3019   \n",
       "3        2         0.7             1.147392   58400000       1859   \n",
       "4        2         0.7             1.147392   58400000       1859   \n",
       "\n",
       "   total_posts  channel_associated_on_bio  time_on_app_years  latest_post  \\\n",
       "0         5191                          1                 10            1   \n",
       "1         5191                          1                 10            2   \n",
       "2         5191                          1                 10            3   \n",
       "3         2785                          0                  9            1   \n",
       "4         2785                          0                  9            2   \n",
       "\n",
       "   likes_per_post  comments_per_post  partnership_posts  \n",
       "0          546000               8557                  1  \n",
       "1         1400000              14400                  0  \n",
       "2          829000              10000                  1  \n",
       "3            9928                113                  1  \n",
       "4          632000               5379                  0  "
      ]
     },
     "execution_count": 10,
     "metadata": {},
     "output_type": "execute_result"
    }
   ],
   "source": [
    "data.select_dtypes('number').head(5)"
   ]
  },
  {
   "cell_type": "code",
   "execution_count": 11,
   "metadata": {},
   "outputs": [
    {
     "data": {
      "text/html": [
       "<div>\n",
       "<style scoped>\n",
       "    .dataframe tbody tr th:only-of-type {\n",
       "        vertical-align: middle;\n",
       "    }\n",
       "\n",
       "    .dataframe tbody tr th {\n",
       "        vertical-align: top;\n",
       "    }\n",
       "\n",
       "    .dataframe thead th {\n",
       "        text-align: right;\n",
       "    }\n",
       "</style>\n",
       "<table border=\"1\" class=\"dataframe\">\n",
       "  <thead>\n",
       "    <tr style=\"text-align: right;\">\n",
       "      <th></th>\n",
       "      <th>engagement_activity</th>\n",
       "      <th>followers</th>\n",
       "      <th>following</th>\n",
       "      <th>total_posts</th>\n",
       "      <th>channel_associated_on_bio</th>\n",
       "      <th>time_on_app_years</th>\n",
       "      <th>likes_per_post</th>\n",
       "      <th>comments_per_post</th>\n",
       "      <th>partnership_posts</th>\n",
       "    </tr>\n",
       "  </thead>\n",
       "  <tbody>\n",
       "    <tr>\n",
       "      <th>engagement_activity</th>\n",
       "      <td>1.000000</td>\n",
       "      <td>-0.285031</td>\n",
       "      <td>-0.179089</td>\n",
       "      <td>-0.487967</td>\n",
       "      <td>-0.104459</td>\n",
       "      <td>-0.387970</td>\n",
       "      <td>0.276438</td>\n",
       "      <td>0.211073</td>\n",
       "      <td>-0.127571</td>\n",
       "    </tr>\n",
       "    <tr>\n",
       "      <th>followers</th>\n",
       "      <td>-0.285031</td>\n",
       "      <td>1.000000</td>\n",
       "      <td>0.290567</td>\n",
       "      <td>0.242326</td>\n",
       "      <td>0.066646</td>\n",
       "      <td>0.249848</td>\n",
       "      <td>0.444603</td>\n",
       "      <td>0.352503</td>\n",
       "      <td>0.206761</td>\n",
       "    </tr>\n",
       "    <tr>\n",
       "      <th>following</th>\n",
       "      <td>-0.179089</td>\n",
       "      <td>0.290567</td>\n",
       "      <td>1.000000</td>\n",
       "      <td>0.210768</td>\n",
       "      <td>-0.225170</td>\n",
       "      <td>0.152762</td>\n",
       "      <td>-0.060733</td>\n",
       "      <td>-0.057095</td>\n",
       "      <td>0.202052</td>\n",
       "    </tr>\n",
       "    <tr>\n",
       "      <th>total_posts</th>\n",
       "      <td>-0.487967</td>\n",
       "      <td>0.242326</td>\n",
       "      <td>0.210768</td>\n",
       "      <td>1.000000</td>\n",
       "      <td>0.090002</td>\n",
       "      <td>0.313450</td>\n",
       "      <td>-0.053209</td>\n",
       "      <td>-0.034745</td>\n",
       "      <td>-0.004454</td>\n",
       "    </tr>\n",
       "    <tr>\n",
       "      <th>channel_associated_on_bio</th>\n",
       "      <td>-0.104459</td>\n",
       "      <td>0.066646</td>\n",
       "      <td>-0.225170</td>\n",
       "      <td>0.090002</td>\n",
       "      <td>1.000000</td>\n",
       "      <td>0.025752</td>\n",
       "      <td>0.034579</td>\n",
       "      <td>0.070078</td>\n",
       "      <td>0.117241</td>\n",
       "    </tr>\n",
       "    <tr>\n",
       "      <th>time_on_app_years</th>\n",
       "      <td>-0.387970</td>\n",
       "      <td>0.249848</td>\n",
       "      <td>0.152762</td>\n",
       "      <td>0.313450</td>\n",
       "      <td>0.025752</td>\n",
       "      <td>1.000000</td>\n",
       "      <td>0.027209</td>\n",
       "      <td>0.034241</td>\n",
       "      <td>0.015524</td>\n",
       "    </tr>\n",
       "    <tr>\n",
       "      <th>likes_per_post</th>\n",
       "      <td>0.276438</td>\n",
       "      <td>0.444603</td>\n",
       "      <td>-0.060733</td>\n",
       "      <td>-0.053209</td>\n",
       "      <td>0.034579</td>\n",
       "      <td>0.027209</td>\n",
       "      <td>1.000000</td>\n",
       "      <td>0.724105</td>\n",
       "      <td>-0.066592</td>\n",
       "    </tr>\n",
       "    <tr>\n",
       "      <th>comments_per_post</th>\n",
       "      <td>0.211073</td>\n",
       "      <td>0.352503</td>\n",
       "      <td>-0.057095</td>\n",
       "      <td>-0.034745</td>\n",
       "      <td>0.070078</td>\n",
       "      <td>0.034241</td>\n",
       "      <td>0.724105</td>\n",
       "      <td>1.000000</td>\n",
       "      <td>0.037334</td>\n",
       "    </tr>\n",
       "    <tr>\n",
       "      <th>partnership_posts</th>\n",
       "      <td>-0.127571</td>\n",
       "      <td>0.206761</td>\n",
       "      <td>0.202052</td>\n",
       "      <td>-0.004454</td>\n",
       "      <td>0.117241</td>\n",
       "      <td>0.015524</td>\n",
       "      <td>-0.066592</td>\n",
       "      <td>0.037334</td>\n",
       "      <td>1.000000</td>\n",
       "    </tr>\n",
       "  </tbody>\n",
       "</table>\n",
       "</div>"
      ],
      "text/plain": [
       "                           engagement_activity  followers  following  \\\n",
       "engagement_activity                   1.000000  -0.285031  -0.179089   \n",
       "followers                            -0.285031   1.000000   0.290567   \n",
       "following                            -0.179089   0.290567   1.000000   \n",
       "total_posts                          -0.487967   0.242326   0.210768   \n",
       "channel_associated_on_bio            -0.104459   0.066646  -0.225170   \n",
       "time_on_app_years                    -0.387970   0.249848   0.152762   \n",
       "likes_per_post                        0.276438   0.444603  -0.060733   \n",
       "comments_per_post                     0.211073   0.352503  -0.057095   \n",
       "partnership_posts                    -0.127571   0.206761   0.202052   \n",
       "\n",
       "                           total_posts  channel_associated_on_bio  \\\n",
       "engagement_activity          -0.487967                  -0.104459   \n",
       "followers                     0.242326                   0.066646   \n",
       "following                     0.210768                  -0.225170   \n",
       "total_posts                   1.000000                   0.090002   \n",
       "channel_associated_on_bio     0.090002                   1.000000   \n",
       "time_on_app_years             0.313450                   0.025752   \n",
       "likes_per_post               -0.053209                   0.034579   \n",
       "comments_per_post            -0.034745                   0.070078   \n",
       "partnership_posts            -0.004454                   0.117241   \n",
       "\n",
       "                           time_on_app_years  likes_per_post  \\\n",
       "engagement_activity                -0.387970        0.276438   \n",
       "followers                           0.249848        0.444603   \n",
       "following                           0.152762       -0.060733   \n",
       "total_posts                         0.313450       -0.053209   \n",
       "channel_associated_on_bio           0.025752        0.034579   \n",
       "time_on_app_years                   1.000000        0.027209   \n",
       "likes_per_post                      0.027209        1.000000   \n",
       "comments_per_post                   0.034241        0.724105   \n",
       "partnership_posts                   0.015524       -0.066592   \n",
       "\n",
       "                           comments_per_post  partnership_posts  \n",
       "engagement_activity                 0.211073          -0.127571  \n",
       "followers                           0.352503           0.206761  \n",
       "following                          -0.057095           0.202052  \n",
       "total_posts                        -0.034745          -0.004454  \n",
       "channel_associated_on_bio           0.070078           0.117241  \n",
       "time_on_app_years                   0.034241           0.015524  \n",
       "likes_per_post                      0.724105          -0.066592  \n",
       "comments_per_post                   1.000000           0.037334  \n",
       "partnership_posts                   0.037334           1.000000  "
      ]
     },
     "execution_count": 11,
     "metadata": {},
     "output_type": "execute_result"
    }
   ],
   "source": [
    "data[[\"engagement_activity\", \"followers\", \"following\", \"total_posts\", \"channel_associated_on_bio\", \"time_on_app_years\", \"likes_per_post\", \"comments_per_post\", \"partnership_posts\"]].corr()\n"
   ]
  },
  {
   "cell_type": "code",
   "execution_count": 12,
   "metadata": {},
   "outputs": [],
   "source": [
    "# plt.figure(figsize=[6,4])\n",
    "# sns.heatmap(data.corr())"
   ]
  },
  {
   "cell_type": "code",
   "execution_count": 13,
   "metadata": {},
   "outputs": [
    {
     "name": "stdout",
     "output_type": "stream",
     "text": [
      "21.46753247\n",
      "0.258636816\n",
      "5.894679660279073\n",
      "4.037955414\n"
     ]
    }
   ],
   "source": [
    "print(data[\"engagement_activity\"].max())\n",
    "print(data[\"engagement_activity\"].min())\n",
    "print(data[\"engagement_activity\"].mean())\n",
    "print(data[\"engagement_activity\"].median())"
   ]
  },
  {
   "cell_type": "code",
   "execution_count": 14,
   "metadata": {},
   "outputs": [],
   "source": [
    "def type_engage(value):\n",
    "    if (value > 0.0) & (value <= 5.0):\n",
    "        return \"Low Engagement\"\n",
    "    elif (value > 5.0):\n",
    "        return \"High Engagement\"\n",
    "    else: \n",
    "        return \"Error\""
   ]
  },
  {
   "cell_type": "code",
   "execution_count": 15,
   "metadata": {},
   "outputs": [
    {
     "data": {
      "text/plain": [
       "'High Engagement'"
      ]
     },
     "execution_count": 15,
     "metadata": {},
     "output_type": "execute_result"
    }
   ],
   "source": [
    "type_engage(48)"
   ]
  },
  {
   "cell_type": "code",
   "execution_count": 16,
   "metadata": {},
   "outputs": [
    {
     "data": {
      "text/plain": [
       "0       Low Engagement\n",
       "1       Low Engagement\n",
       "2       Low Engagement\n",
       "3       Low Engagement\n",
       "4       Low Engagement\n",
       "            ...       \n",
       "124    High Engagement\n",
       "125    High Engagement\n",
       "126    High Engagement\n",
       "127    High Engagement\n",
       "128    High Engagement\n",
       "Name: engagement_type, Length: 129, dtype: object"
      ]
     },
     "execution_count": 16,
     "metadata": {},
     "output_type": "execute_result"
    }
   ],
   "source": [
    "data['engagement_type'] = data['engagement_activity'].apply(type_engage)\n",
    "data['engagement_type']"
   ]
  },
  {
   "cell_type": "code",
   "execution_count": 17,
   "metadata": {},
   "outputs": [
    {
     "data": {
      "text/plain": [
       "Low Engagement     75\n",
       "High Engagement    54\n",
       "Name: engagement_type, dtype: int64"
      ]
     },
     "execution_count": 17,
     "metadata": {},
     "output_type": "execute_result"
    }
   ],
   "source": [
    "data['engagement_type'].value_counts()"
   ]
  },
  {
   "cell_type": "code",
   "execution_count": 18,
   "metadata": {},
   "outputs": [
    {
     "data": {
      "text/html": [
       "<div>\n",
       "<style scoped>\n",
       "    .dataframe tbody tr th:only-of-type {\n",
       "        vertical-align: middle;\n",
       "    }\n",
       "\n",
       "    .dataframe tbody tr th {\n",
       "        vertical-align: top;\n",
       "    }\n",
       "\n",
       "    .dataframe thead th {\n",
       "        text-align: right;\n",
       "    }\n",
       "</style>\n",
       "<table border=\"1\" class=\"dataframe\">\n",
       "  <thead>\n",
       "    <tr style=\"text-align: right;\">\n",
       "      <th></th>\n",
       "      <th>ranking</th>\n",
       "      <th>username</th>\n",
       "      <th>categories</th>\n",
       "      <th>engagement</th>\n",
       "      <th>engagement_activity</th>\n",
       "      <th>followers</th>\n",
       "      <th>following</th>\n",
       "      <th>total_posts</th>\n",
       "      <th>channel_associated_on_bio</th>\n",
       "      <th>time_on_app_years</th>\n",
       "      <th>latest_post</th>\n",
       "      <th>post_type</th>\n",
       "      <th>likes_per_post</th>\n",
       "      <th>comments_per_post</th>\n",
       "      <th>partnership_posts</th>\n",
       "      <th>date_post</th>\n",
       "      <th>engagement_type</th>\n",
       "    </tr>\n",
       "  </thead>\n",
       "  <tbody>\n",
       "    <tr>\n",
       "      <th>124</th>\n",
       "      <td>42</td>\n",
       "      <td>@xandecoelho</td>\n",
       "      <td>Lifestyle', 'Business'</td>\n",
       "      <td>0.0</td>\n",
       "      <td>21.467532</td>\n",
       "      <td>15400</td>\n",
       "      <td>1391</td>\n",
       "      <td>194</td>\n",
       "      <td>0</td>\n",
       "      <td>0</td>\n",
       "      <td>2</td>\n",
       "      <td>picture</td>\n",
       "      <td>873</td>\n",
       "      <td>39</td>\n",
       "      <td>0</td>\n",
       "      <td>28/8/2022</td>\n",
       "      <td>High Engagement</td>\n",
       "    </tr>\n",
       "    <tr>\n",
       "      <th>125</th>\n",
       "      <td>42</td>\n",
       "      <td>@xandecoelho</td>\n",
       "      <td>Lifestyle', 'Business'</td>\n",
       "      <td>0.0</td>\n",
       "      <td>21.467532</td>\n",
       "      <td>15400</td>\n",
       "      <td>1391</td>\n",
       "      <td>194</td>\n",
       "      <td>0</td>\n",
       "      <td>0</td>\n",
       "      <td>3</td>\n",
       "      <td>caroussel</td>\n",
       "      <td>652</td>\n",
       "      <td>33</td>\n",
       "      <td>0</td>\n",
       "      <td>11/8/2022</td>\n",
       "      <td>High Engagement</td>\n",
       "    </tr>\n",
       "    <tr>\n",
       "      <th>126</th>\n",
       "      <td>43</td>\n",
       "      <td>@leopeleja</td>\n",
       "      <td>Humor', 'Comedy', 'Marketing and Advertising',...</td>\n",
       "      <td>0.0</td>\n",
       "      <td>9.063368</td>\n",
       "      <td>7922</td>\n",
       "      <td>1211</td>\n",
       "      <td>1873</td>\n",
       "      <td>0</td>\n",
       "      <td>11</td>\n",
       "      <td>1</td>\n",
       "      <td>video</td>\n",
       "      <td>190</td>\n",
       "      <td>36</td>\n",
       "      <td>0</td>\n",
       "      <td>19/10/2022</td>\n",
       "      <td>High Engagement</td>\n",
       "    </tr>\n",
       "    <tr>\n",
       "      <th>127</th>\n",
       "      <td>43</td>\n",
       "      <td>@leopeleja</td>\n",
       "      <td>Humor', 'Comedy', 'Marketing and Advertising',...</td>\n",
       "      <td>0.0</td>\n",
       "      <td>9.063368</td>\n",
       "      <td>7922</td>\n",
       "      <td>1211</td>\n",
       "      <td>1873</td>\n",
       "      <td>0</td>\n",
       "      <td>11</td>\n",
       "      <td>2</td>\n",
       "      <td>picture</td>\n",
       "      <td>232</td>\n",
       "      <td>13</td>\n",
       "      <td>0</td>\n",
       "      <td>13/10/2022</td>\n",
       "      <td>High Engagement</td>\n",
       "    </tr>\n",
       "    <tr>\n",
       "      <th>128</th>\n",
       "      <td>43</td>\n",
       "      <td>@leopeleja</td>\n",
       "      <td>Humor', 'Comedy', 'Marketing and Advertising',...</td>\n",
       "      <td>0.0</td>\n",
       "      <td>9.063368</td>\n",
       "      <td>7922</td>\n",
       "      <td>1211</td>\n",
       "      <td>1873</td>\n",
       "      <td>0</td>\n",
       "      <td>11</td>\n",
       "      <td>3</td>\n",
       "      <td>video</td>\n",
       "      <td>217</td>\n",
       "      <td>30</td>\n",
       "      <td>0</td>\n",
       "      <td>7/10/2022</td>\n",
       "      <td>High Engagement</td>\n",
       "    </tr>\n",
       "  </tbody>\n",
       "</table>\n",
       "</div>"
      ],
      "text/plain": [
       "     ranking      username                                         categories  \\\n",
       "124       42  @xandecoelho                             Lifestyle', 'Business'   \n",
       "125       42  @xandecoelho                             Lifestyle', 'Business'   \n",
       "126       43    @leopeleja  Humor', 'Comedy', 'Marketing and Advertising',...   \n",
       "127       43    @leopeleja  Humor', 'Comedy', 'Marketing and Advertising',...   \n",
       "128       43    @leopeleja  Humor', 'Comedy', 'Marketing and Advertising',...   \n",
       "\n",
       "     engagement  engagement_activity  followers  following  total_posts  \\\n",
       "124         0.0            21.467532      15400       1391          194   \n",
       "125         0.0            21.467532      15400       1391          194   \n",
       "126         0.0             9.063368       7922       1211         1873   \n",
       "127         0.0             9.063368       7922       1211         1873   \n",
       "128         0.0             9.063368       7922       1211         1873   \n",
       "\n",
       "     channel_associated_on_bio  time_on_app_years  latest_post  post_type  \\\n",
       "124                          0                  0            2    picture   \n",
       "125                          0                  0            3  caroussel   \n",
       "126                          0                 11            1      video   \n",
       "127                          0                 11            2    picture   \n",
       "128                          0                 11            3      video   \n",
       "\n",
       "     likes_per_post  comments_per_post  partnership_posts   date_post  \\\n",
       "124             873                 39                  0   28/8/2022   \n",
       "125             652                 33                  0   11/8/2022   \n",
       "126             190                 36                  0  19/10/2022   \n",
       "127             232                 13                  0  13/10/2022   \n",
       "128             217                 30                  0   7/10/2022   \n",
       "\n",
       "     engagement_type  \n",
       "124  High Engagement  \n",
       "125  High Engagement  \n",
       "126  High Engagement  \n",
       "127  High Engagement  \n",
       "128  High Engagement  "
      ]
     },
     "execution_count": 18,
     "metadata": {},
     "output_type": "execute_result"
    }
   ],
   "source": [
    "data.tail()"
   ]
  },
  {
   "cell_type": "code",
   "execution_count": 19,
   "metadata": {},
   "outputs": [],
   "source": [
    "data.to_csv(\"followers_all_final.csv\")"
   ]
  },
  {
   "cell_type": "code",
   "execution_count": 44,
   "metadata": {},
   "outputs": [],
   "source": [
    "data['engagement_bool'] = np.where(data['engagement_type'] == 'High Engagement', 1, 0)"
   ]
  },
  {
   "cell_type": "markdown",
   "metadata": {},
   "source": [
    "# Logistic Regression Model "
   ]
  },
  {
   "cell_type": "code",
   "execution_count": 95,
   "metadata": {},
   "outputs": [
    {
     "data": {
      "text/html": [
       "<div>\n",
       "<style scoped>\n",
       "    .dataframe tbody tr th:only-of-type {\n",
       "        vertical-align: middle;\n",
       "    }\n",
       "\n",
       "    .dataframe tbody tr th {\n",
       "        vertical-align: top;\n",
       "    }\n",
       "\n",
       "    .dataframe thead th {\n",
       "        text-align: right;\n",
       "    }\n",
       "</style>\n",
       "<table border=\"1\" class=\"dataframe\">\n",
       "  <thead>\n",
       "    <tr style=\"text-align: right;\">\n",
       "      <th></th>\n",
       "      <th>followers</th>\n",
       "      <th>following</th>\n",
       "      <th>total_posts</th>\n",
       "      <th>time_on_app_years</th>\n",
       "      <th>likes_per_post</th>\n",
       "      <th>comments_per_post</th>\n",
       "      <th>engagement_activity</th>\n",
       "    </tr>\n",
       "  </thead>\n",
       "  <tbody>\n",
       "    <tr>\n",
       "      <th>0</th>\n",
       "      <td>63300000</td>\n",
       "      <td>3019</td>\n",
       "      <td>5191</td>\n",
       "      <td>10</td>\n",
       "      <td>546000</td>\n",
       "      <td>8557</td>\n",
       "      <td>4.435951</td>\n",
       "    </tr>\n",
       "    <tr>\n",
       "      <th>1</th>\n",
       "      <td>63300000</td>\n",
       "      <td>3019</td>\n",
       "      <td>5191</td>\n",
       "      <td>10</td>\n",
       "      <td>1400000</td>\n",
       "      <td>14400</td>\n",
       "      <td>4.435951</td>\n",
       "    </tr>\n",
       "    <tr>\n",
       "      <th>2</th>\n",
       "      <td>63300000</td>\n",
       "      <td>3019</td>\n",
       "      <td>5191</td>\n",
       "      <td>10</td>\n",
       "      <td>829000</td>\n",
       "      <td>10000</td>\n",
       "      <td>4.435951</td>\n",
       "    </tr>\n",
       "    <tr>\n",
       "      <th>3</th>\n",
       "      <td>58400000</td>\n",
       "      <td>1859</td>\n",
       "      <td>2785</td>\n",
       "      <td>9</td>\n",
       "      <td>9928</td>\n",
       "      <td>113</td>\n",
       "      <td>1.147392</td>\n",
       "    </tr>\n",
       "    <tr>\n",
       "      <th>4</th>\n",
       "      <td>58400000</td>\n",
       "      <td>1859</td>\n",
       "      <td>2785</td>\n",
       "      <td>9</td>\n",
       "      <td>632000</td>\n",
       "      <td>5379</td>\n",
       "      <td>1.147392</td>\n",
       "    </tr>\n",
       "  </tbody>\n",
       "</table>\n",
       "</div>"
      ],
      "text/plain": [
       "   followers  following  total_posts  time_on_app_years  likes_per_post  \\\n",
       "0   63300000       3019         5191                 10          546000   \n",
       "1   63300000       3019         5191                 10         1400000   \n",
       "2   63300000       3019         5191                 10          829000   \n",
       "3   58400000       1859         2785                  9            9928   \n",
       "4   58400000       1859         2785                  9          632000   \n",
       "\n",
       "   comments_per_post  engagement_activity  \n",
       "0               8557             4.435951  \n",
       "1              14400             4.435951  \n",
       "2              10000             4.435951  \n",
       "3                113             1.147392  \n",
       "4               5379             1.147392  "
      ]
     },
     "execution_count": 95,
     "metadata": {},
     "output_type": "execute_result"
    }
   ],
   "source": [
    "X = data[['followers', 'following', 'total_posts', 'time_on_app_years', 'likes_per_post', 'comments_per_post', 'engagement_activity']]\n",
    "y = data['engagement_type']\n",
    "\n",
    "# type of engagement will be generated by 2 bins based on : \n",
    "# from 0 to 5 : low engagement = 0 \n",
    "# from 5 to 10 or higher : high engagement = 1 \n",
    "# we will have to generate this new column \n",
    "\n",
    "\n",
    "X.head()"
   ]
  },
  {
   "cell_type": "code",
   "execution_count": 96,
   "metadata": {},
   "outputs": [
    {
     "data": {
      "text/html": [
       "<div>\n",
       "<style scoped>\n",
       "    .dataframe tbody tr th:only-of-type {\n",
       "        vertical-align: middle;\n",
       "    }\n",
       "\n",
       "    .dataframe tbody tr th {\n",
       "        vertical-align: top;\n",
       "    }\n",
       "\n",
       "    .dataframe thead th {\n",
       "        text-align: right;\n",
       "    }\n",
       "</style>\n",
       "<table border=\"1\" class=\"dataframe\">\n",
       "  <thead>\n",
       "    <tr style=\"text-align: right;\">\n",
       "      <th></th>\n",
       "      <th>followers</th>\n",
       "      <th>following</th>\n",
       "      <th>total_posts</th>\n",
       "      <th>time_on_app_years</th>\n",
       "      <th>likes_per_post</th>\n",
       "      <th>comments_per_post</th>\n",
       "      <th>engagement_activity</th>\n",
       "    </tr>\n",
       "  </thead>\n",
       "  <tbody>\n",
       "    <tr>\n",
       "      <th>0</th>\n",
       "      <td>2.902639</td>\n",
       "      <td>1.647598</td>\n",
       "      <td>0.682548</td>\n",
       "      <td>0.675644</td>\n",
       "      <td>0.555993</td>\n",
       "      <td>0.656809</td>\n",
       "      <td>-0.266079</td>\n",
       "    </tr>\n",
       "    <tr>\n",
       "      <th>1</th>\n",
       "      <td>2.902639</td>\n",
       "      <td>1.647598</td>\n",
       "      <td>0.682548</td>\n",
       "      <td>0.675644</td>\n",
       "      <td>2.266554</td>\n",
       "      <td>1.400255</td>\n",
       "      <td>-0.266079</td>\n",
       "    </tr>\n",
       "    <tr>\n",
       "      <th>2</th>\n",
       "      <td>2.902639</td>\n",
       "      <td>1.647598</td>\n",
       "      <td>0.682548</td>\n",
       "      <td>0.675644</td>\n",
       "      <td>1.122841</td>\n",
       "      <td>0.840412</td>\n",
       "      <td>-0.266079</td>\n",
       "    </tr>\n",
       "    <tr>\n",
       "      <th>3</th>\n",
       "      <td>2.588853</td>\n",
       "      <td>0.386787</td>\n",
       "      <td>-0.139245</td>\n",
       "      <td>0.445067</td>\n",
       "      <td>-0.517759</td>\n",
       "      <td>-0.417581</td>\n",
       "      <td>-0.865927</td>\n",
       "    </tr>\n",
       "    <tr>\n",
       "      <th>4</th>\n",
       "      <td>2.588853</td>\n",
       "      <td>0.386787</td>\n",
       "      <td>-0.139245</td>\n",
       "      <td>0.445067</td>\n",
       "      <td>0.728251</td>\n",
       "      <td>0.252449</td>\n",
       "      <td>-0.865927</td>\n",
       "    </tr>\n",
       "    <tr>\n",
       "      <th>...</th>\n",
       "      <td>...</td>\n",
       "      <td>...</td>\n",
       "      <td>...</td>\n",
       "      <td>...</td>\n",
       "      <td>...</td>\n",
       "      <td>...</td>\n",
       "      <td>...</td>\n",
       "    </tr>\n",
       "    <tr>\n",
       "      <th>124</th>\n",
       "      <td>-1.149979</td>\n",
       "      <td>-0.121885</td>\n",
       "      <td>-1.024227</td>\n",
       "      <td>-1.630126</td>\n",
       "      <td>-0.535896</td>\n",
       "      <td>-0.426997</td>\n",
       "      <td>2.840560</td>\n",
       "    </tr>\n",
       "    <tr>\n",
       "      <th>125</th>\n",
       "      <td>-1.149979</td>\n",
       "      <td>-0.121885</td>\n",
       "      <td>-1.024227</td>\n",
       "      <td>-1.630126</td>\n",
       "      <td>-0.536339</td>\n",
       "      <td>-0.427760</td>\n",
       "      <td>2.840560</td>\n",
       "    </tr>\n",
       "    <tr>\n",
       "      <th>126</th>\n",
       "      <td>-1.150458</td>\n",
       "      <td>-0.317528</td>\n",
       "      <td>-0.450748</td>\n",
       "      <td>0.906222</td>\n",
       "      <td>-0.537264</td>\n",
       "      <td>-0.427379</td>\n",
       "      <td>0.577983</td>\n",
       "    </tr>\n",
       "    <tr>\n",
       "      <th>127</th>\n",
       "      <td>-1.150458</td>\n",
       "      <td>-0.317528</td>\n",
       "      <td>-0.450748</td>\n",
       "      <td>0.906222</td>\n",
       "      <td>-0.537180</td>\n",
       "      <td>-0.430305</td>\n",
       "      <td>0.577983</td>\n",
       "    </tr>\n",
       "    <tr>\n",
       "      <th>128</th>\n",
       "      <td>-1.150458</td>\n",
       "      <td>-0.317528</td>\n",
       "      <td>-0.450748</td>\n",
       "      <td>0.906222</td>\n",
       "      <td>-0.537210</td>\n",
       "      <td>-0.428142</td>\n",
       "      <td>0.577983</td>\n",
       "    </tr>\n",
       "  </tbody>\n",
       "</table>\n",
       "<p>129 rows × 7 columns</p>\n",
       "</div>"
      ],
      "text/plain": [
       "     followers  following  total_posts  time_on_app_years  likes_per_post  \\\n",
       "0     2.902639   1.647598     0.682548           0.675644        0.555993   \n",
       "1     2.902639   1.647598     0.682548           0.675644        2.266554   \n",
       "2     2.902639   1.647598     0.682548           0.675644        1.122841   \n",
       "3     2.588853   0.386787    -0.139245           0.445067       -0.517759   \n",
       "4     2.588853   0.386787    -0.139245           0.445067        0.728251   \n",
       "..         ...        ...          ...                ...             ...   \n",
       "124  -1.149979  -0.121885    -1.024227          -1.630126       -0.535896   \n",
       "125  -1.149979  -0.121885    -1.024227          -1.630126       -0.536339   \n",
       "126  -1.150458  -0.317528    -0.450748           0.906222       -0.537264   \n",
       "127  -1.150458  -0.317528    -0.450748           0.906222       -0.537180   \n",
       "128  -1.150458  -0.317528    -0.450748           0.906222       -0.537210   \n",
       "\n",
       "     comments_per_post  engagement_activity  \n",
       "0             0.656809            -0.266079  \n",
       "1             1.400255            -0.266079  \n",
       "2             0.840412            -0.266079  \n",
       "3            -0.417581            -0.865927  \n",
       "4             0.252449            -0.865927  \n",
       "..                 ...                  ...  \n",
       "124          -0.426997             2.840560  \n",
       "125          -0.427760             2.840560  \n",
       "126          -0.427379             0.577983  \n",
       "127          -0.430305             0.577983  \n",
       "128          -0.428142             0.577983  \n",
       "\n",
       "[129 rows x 7 columns]"
      ]
     },
     "execution_count": 96,
     "metadata": {},
     "output_type": "execute_result"
    }
   ],
   "source": [
    "# create the scaler \n",
    "scaler = StandardScaler()\n",
    "\n",
    "# fit our data to the standard scaler \n",
    "scaler.fit(X)\n",
    "\n",
    "# transform the data\n",
    "scaler.transform(X)\n",
    "\n",
    "scaled_X = pd.DataFrame(scaler.transform(X), columns=X.columns)\n",
    "scaled_X"
   ]
  },
  {
   "cell_type": "code",
   "execution_count": 97,
   "metadata": {},
   "outputs": [],
   "source": [
    "#  create our model \n",
    "\n",
    "logistic = linear_model.LogisticRegression()"
   ]
  },
  {
   "cell_type": "code",
   "execution_count": 98,
   "metadata": {},
   "outputs": [
    {
     "data": {
      "text/html": [
       "<style>#sk-container-id-8 {color: black;background-color: white;}#sk-container-id-8 pre{padding: 0;}#sk-container-id-8 div.sk-toggleable {background-color: white;}#sk-container-id-8 label.sk-toggleable__label {cursor: pointer;display: block;width: 100%;margin-bottom: 0;padding: 0.3em;box-sizing: border-box;text-align: center;}#sk-container-id-8 label.sk-toggleable__label-arrow:before {content: \"▸\";float: left;margin-right: 0.25em;color: #696969;}#sk-container-id-8 label.sk-toggleable__label-arrow:hover:before {color: black;}#sk-container-id-8 div.sk-estimator:hover label.sk-toggleable__label-arrow:before {color: black;}#sk-container-id-8 div.sk-toggleable__content {max-height: 0;max-width: 0;overflow: hidden;text-align: left;background-color: #f0f8ff;}#sk-container-id-8 div.sk-toggleable__content pre {margin: 0.2em;color: black;border-radius: 0.25em;background-color: #f0f8ff;}#sk-container-id-8 input.sk-toggleable__control:checked~div.sk-toggleable__content {max-height: 200px;max-width: 100%;overflow: auto;}#sk-container-id-8 input.sk-toggleable__control:checked~label.sk-toggleable__label-arrow:before {content: \"▾\";}#sk-container-id-8 div.sk-estimator input.sk-toggleable__control:checked~label.sk-toggleable__label {background-color: #d4ebff;}#sk-container-id-8 div.sk-label input.sk-toggleable__control:checked~label.sk-toggleable__label {background-color: #d4ebff;}#sk-container-id-8 input.sk-hidden--visually {border: 0;clip: rect(1px 1px 1px 1px);clip: rect(1px, 1px, 1px, 1px);height: 1px;margin: -1px;overflow: hidden;padding: 0;position: absolute;width: 1px;}#sk-container-id-8 div.sk-estimator {font-family: monospace;background-color: #f0f8ff;border: 1px dotted black;border-radius: 0.25em;box-sizing: border-box;margin-bottom: 0.5em;}#sk-container-id-8 div.sk-estimator:hover {background-color: #d4ebff;}#sk-container-id-8 div.sk-parallel-item::after {content: \"\";width: 100%;border-bottom: 1px solid gray;flex-grow: 1;}#sk-container-id-8 div.sk-label:hover label.sk-toggleable__label {background-color: #d4ebff;}#sk-container-id-8 div.sk-serial::before {content: \"\";position: absolute;border-left: 1px solid gray;box-sizing: border-box;top: 0;bottom: 0;left: 50%;z-index: 0;}#sk-container-id-8 div.sk-serial {display: flex;flex-direction: column;align-items: center;background-color: white;padding-right: 0.2em;padding-left: 0.2em;position: relative;}#sk-container-id-8 div.sk-item {position: relative;z-index: 1;}#sk-container-id-8 div.sk-parallel {display: flex;align-items: stretch;justify-content: center;background-color: white;position: relative;}#sk-container-id-8 div.sk-item::before, #sk-container-id-8 div.sk-parallel-item::before {content: \"\";position: absolute;border-left: 1px solid gray;box-sizing: border-box;top: 0;bottom: 0;left: 50%;z-index: -1;}#sk-container-id-8 div.sk-parallel-item {display: flex;flex-direction: column;z-index: 1;position: relative;background-color: white;}#sk-container-id-8 div.sk-parallel-item:first-child::after {align-self: flex-end;width: 50%;}#sk-container-id-8 div.sk-parallel-item:last-child::after {align-self: flex-start;width: 50%;}#sk-container-id-8 div.sk-parallel-item:only-child::after {width: 0;}#sk-container-id-8 div.sk-dashed-wrapped {border: 1px dashed gray;margin: 0 0.4em 0.5em 0.4em;box-sizing: border-box;padding-bottom: 0.4em;background-color: white;}#sk-container-id-8 div.sk-label label {font-family: monospace;font-weight: bold;display: inline-block;line-height: 1.2em;}#sk-container-id-8 div.sk-label-container {text-align: center;}#sk-container-id-8 div.sk-container {/* jupyter's `normalize.less` sets `[hidden] { display: none; }` but bootstrap.min.css set `[hidden] { display: none !important; }` so we also need the `!important` here to be able to override the default hidden behavior on the sphinx rendered scikit-learn.org. See: https://github.com/scikit-learn/scikit-learn/issues/21755 */display: inline-block !important;position: relative;}#sk-container-id-8 div.sk-text-repr-fallback {display: none;}</style><div id=\"sk-container-id-8\" class=\"sk-top-container\"><div class=\"sk-text-repr-fallback\"><pre>LogisticRegression()</pre><b>In a Jupyter environment, please rerun this cell to show the HTML representation or trust the notebook. <br />On GitHub, the HTML representation is unable to render, please try loading this page with nbviewer.org.</b></div><div class=\"sk-container\" hidden><div class=\"sk-item\"><div class=\"sk-estimator sk-toggleable\"><input class=\"sk-toggleable__control sk-hidden--visually\" id=\"sk-estimator-id-8\" type=\"checkbox\" checked><label for=\"sk-estimator-id-8\" class=\"sk-toggleable__label sk-toggleable__label-arrow\">LogisticRegression</label><div class=\"sk-toggleable__content\"><pre>LogisticRegression()</pre></div></div></div></div></div>"
      ],
      "text/plain": [
       "LogisticRegression()"
      ]
     },
     "execution_count": 98,
     "metadata": {},
     "output_type": "execute_result"
    }
   ],
   "source": [
    "# train the model \n",
    "\n",
    "logistic.fit(scaled_X,y)"
   ]
  },
  {
   "cell_type": "code",
   "execution_count": 102,
   "metadata": {},
   "outputs": [
    {
     "data": {
      "text/plain": [
       "0.9844961240310077"
      ]
     },
     "execution_count": 102,
     "metadata": {},
     "output_type": "execute_result"
    }
   ],
   "source": [
    "# evaluate the model \n",
    "\n",
    "logistic.score(scaled_X,y)\n",
    "\n",
    "# accuracy score : near 89%"
   ]
  },
  {
   "cell_type": "code",
   "execution_count": 101,
   "metadata": {},
   "outputs": [
    {
     "data": {
      "text/html": [
       "<div>\n",
       "<style scoped>\n",
       "    .dataframe tbody tr th:only-of-type {\n",
       "        vertical-align: middle;\n",
       "    }\n",
       "\n",
       "    .dataframe tbody tr th {\n",
       "        vertical-align: top;\n",
       "    }\n",
       "\n",
       "    .dataframe thead th {\n",
       "        text-align: right;\n",
       "    }\n",
       "</style>\n",
       "<table border=\"1\" class=\"dataframe\">\n",
       "  <thead>\n",
       "    <tr style=\"text-align: right;\">\n",
       "      <th></th>\n",
       "      <th>followers</th>\n",
       "      <th>following</th>\n",
       "      <th>total_posts</th>\n",
       "      <th>time_on_app_years</th>\n",
       "      <th>likes_per_post</th>\n",
       "      <th>comments_per_post</th>\n",
       "      <th>engagement_activity</th>\n",
       "    </tr>\n",
       "  </thead>\n",
       "  <tbody>\n",
       "    <tr>\n",
       "      <th>0</th>\n",
       "      <td>38600000</td>\n",
       "      <td>419</td>\n",
       "      <td>1931</td>\n",
       "      <td>10</td>\n",
       "      <td>6300000</td>\n",
       "      <td>37201</td>\n",
       "      <td>16.417619</td>\n",
       "    </tr>\n",
       "  </tbody>\n",
       "</table>\n",
       "</div>"
      ],
      "text/plain": [
       "   followers  following  total_posts  time_on_app_years  likes_per_post  \\\n",
       "0   38600000        419         1931                 10         6300000   \n",
       "\n",
       "   comments_per_post  engagement_activity  \n",
       "0              37201            16.417619  "
      ]
     },
     "metadata": {},
     "output_type": "display_data"
    },
    {
     "data": {
      "text/html": [
       "<div>\n",
       "<style scoped>\n",
       "    .dataframe tbody tr th:only-of-type {\n",
       "        vertical-align: middle;\n",
       "    }\n",
       "\n",
       "    .dataframe tbody tr th {\n",
       "        vertical-align: top;\n",
       "    }\n",
       "\n",
       "    .dataframe thead th {\n",
       "        text-align: right;\n",
       "    }\n",
       "</style>\n",
       "<table border=\"1\" class=\"dataframe\">\n",
       "  <thead>\n",
       "    <tr style=\"text-align: right;\">\n",
       "      <th></th>\n",
       "      <th>followers</th>\n",
       "      <th>following</th>\n",
       "      <th>total_posts</th>\n",
       "      <th>time_on_app_years</th>\n",
       "      <th>likes_per_post</th>\n",
       "      <th>comments_per_post</th>\n",
       "      <th>engagement_activity</th>\n",
       "    </tr>\n",
       "  </thead>\n",
       "  <tbody>\n",
       "    <tr>\n",
       "      <th>0</th>\n",
       "      <td>1.320901</td>\n",
       "      <td>-1.178358</td>\n",
       "      <td>-0.430938</td>\n",
       "      <td>0.675644</td>\n",
       "      <td>12.08125</td>\n",
       "      <td>4.301389</td>\n",
       "      <td>1.919432</td>\n",
       "    </tr>\n",
       "  </tbody>\n",
       "</table>\n",
       "</div>"
      ],
      "text/plain": [
       "   followers  following  total_posts  time_on_app_years  likes_per_post  \\\n",
       "0   1.320901  -1.178358    -0.430938           0.675644        12.08125   \n",
       "\n",
       "   comments_per_post  engagement_activity  \n",
       "0           4.301389             1.919432  "
      ]
     },
     "metadata": {},
     "output_type": "display_data"
    },
    {
     "name": "stdout",
     "output_type": "stream",
     "text": [
      "['High Engagement']\n"
     ]
    }
   ],
   "source": [
    "## TEST\n",
    "user_input = {'followers':[38600000], 'following': [419], 'total_posts': [1931], 'time_on_app_years': [10], 'likes_per_post': [6300000], 'comments_per_post': [37201]}\n",
    "to_predict = pd.DataFrame(user_input)\n",
    "\n",
    "# fit our data to the standard scaler \n",
    "scaler.fit(X)\n",
    "\n",
    "# transform the data\n",
    "\n",
    "\n",
    "# input_feature1 = 100\n",
    "# input_feature2 = 300\n",
    "# input_feature3 = 10\n",
    "# input_feature4 = 10\n",
    "# input_feature5 = 20\n",
    "# input_feature6 = 10\n",
    "\n",
    "to_predict['engagement_activity'] = (((6300000 + 37201) * 100) / 38600000)\n",
    "scaled_pred = pd.DataFrame(scaler.transform(to_predict), columns=to_predict.columns)\n",
    "display(to_predict)\n",
    "display(scaled_pred)\n",
    "\n",
    "# if engagement_activity_new <= 5.0:\n",
    "#     to_predict['engagement_activity'] = \"Low Engagement\"\n",
    "# else:\n",
    "#     to_predict['engagement_activity'] = \"High Engagement\"\n",
    "\n",
    "    #if button:\n",
    "    # prediction model\n",
    "    #try:\n",
    "result = logistic.predict(scaled_pred)\n",
    "# if result == \"Low Engagement\":\n",
    "#     print('Your engagement will be low')\n",
    "# else:\n",
    "#     print('Your engagement will be high')\n",
    "# except:\n",
    "print(result)"
   ]
  },
  {
   "cell_type": "code",
   "execution_count": null,
   "metadata": {},
   "outputs": [],
   "source": []
  }
 ],
 "metadata": {
  "kernelspec": {
   "display_name": "Python 3.9.13 ('Ironhack')",
   "language": "python",
   "name": "python3"
  },
  "language_info": {
   "codemirror_mode": {
    "name": "ipython",
    "version": 3
   },
   "file_extension": ".py",
   "mimetype": "text/x-python",
   "name": "python",
   "nbconvert_exporter": "python",
   "pygments_lexer": "ipython3",
   "version": "3.9.13"
  },
  "orig_nbformat": 4,
  "vscode": {
   "interpreter": {
    "hash": "854afc56d03903cb43ce0c2669a823476d92c4ce89f442894441f6714fb107d5"
   }
  }
 },
 "nbformat": 4,
 "nbformat_minor": 2
}
