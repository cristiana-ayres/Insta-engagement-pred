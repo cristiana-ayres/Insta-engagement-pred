{
 "cells": [
  {
   "cell_type": "code",
   "execution_count": 1,
   "metadata": {},
   "outputs": [],
   "source": [
    "# import os, platform, time, urllib.request, openpyxl, operator\n",
    "# from selenium import webdriver\n",
    "# from selenium.webdriver.common.keys import Keys\n",
    "# from selenium.webdriver.common.action_chains import ActionChains\n",
    "# from openpyxl import Workbook\n",
    "# import sys, requests, re, json\n",
    "# from selenium.webdriver.common.keys import Keys\n",
    "# from bs4 import BeautifulSoup\n",
    "\n",
    "# import pandas as pd\n",
    "# import numpy as np\n",
    "\n",
    "# import warnings\n",
    "# warnings.filterwarnings('ignore')"
   ]
  },
  {
   "cell_type": "code",
   "execution_count": 10,
   "metadata": {},
   "outputs": [],
   "source": [
    "from instagramy import InstagramUser"
   ]
  },
  {
   "cell_type": "code",
   "execution_count": 8,
   "metadata": {},
   "outputs": [
    {
     "ename": "KeyError",
     "evalue": "'ProfilePage'",
     "output_type": "error",
     "traceback": [
      "\u001b[1;31m---------------------------------------------------------------------------\u001b[0m",
      "\u001b[1;31mKeyError\u001b[0m                                  Traceback (most recent call last)",
      "Cell \u001b[1;32mIn [8], line 2\u001b[0m\n\u001b[0;32m      1\u001b[0m \u001b[39m# Connecting the profile\u001b[39;00m\n\u001b[1;32m----> 2\u001b[0m user \u001b[39m=\u001b[39m InstagramUser(\u001b[39m\"\u001b[39;49m\u001b[39mrenman1001\u001b[39;49m\u001b[39m\"\u001b[39;49m)\n\u001b[0;32m      4\u001b[0m \u001b[39m# printing the basic details like\u001b[39;00m\n\u001b[0;32m      5\u001b[0m \u001b[39m# followers, following, bio\u001b[39;00m\n\u001b[0;32m      6\u001b[0m \u001b[39mprint\u001b[39m(user\u001b[39m.\u001b[39mis_verified())\n",
      "File \u001b[1;32mc:\\Users\\renji\\anaconda3\\envs\\Ironhack\\lib\\site-packages\\instagramy\\InstagramUser.py:63\u001b[0m, in \u001b[0;36mInstagramUser.__init__\u001b[1;34m(self, username, sessionid, from_cache)\u001b[0m\n\u001b[0;32m     60\u001b[0m \u001b[39melse\u001b[39;00m:\n\u001b[0;32m     61\u001b[0m     data \u001b[39m=\u001b[39m \u001b[39mself\u001b[39m\u001b[39m.\u001b[39mget_json()\n\u001b[0;32m     62\u001b[0m     cache\u001b[39m.\u001b[39mmake_cache(\n\u001b[1;32m---> 63\u001b[0m         username, data[\u001b[39m\"\u001b[39;49m\u001b[39mentry_data\u001b[39;49m\u001b[39m\"\u001b[39;49m][\u001b[39m\"\u001b[39;49m\u001b[39mProfilePage\u001b[39;49m\u001b[39m\"\u001b[39;49m][\u001b[39m0\u001b[39m][\u001b[39m\"\u001b[39m\u001b[39mgraphql\u001b[39m\u001b[39m\"\u001b[39m][\u001b[39m\"\u001b[39m\u001b[39muser\u001b[39m\u001b[39m\"\u001b[39m]\n\u001b[0;32m     64\u001b[0m     )\n\u001b[0;32m     65\u001b[0m     \u001b[39mtry\u001b[39;00m:\n\u001b[0;32m     66\u001b[0m         \u001b[39mself\u001b[39m\u001b[39m.\u001b[39muser_data \u001b[39m=\u001b[39m data[\u001b[39m\"\u001b[39m\u001b[39mentry_data\u001b[39m\u001b[39m\"\u001b[39m][\u001b[39m\"\u001b[39m\u001b[39mProfilePage\u001b[39m\u001b[39m\"\u001b[39m][\u001b[39m0\u001b[39m][\u001b[39m\"\u001b[39m\u001b[39mgraphql\u001b[39m\u001b[39m\"\u001b[39m][\u001b[39m\"\u001b[39m\u001b[39muser\u001b[39m\u001b[39m\"\u001b[39m]\n",
      "\u001b[1;31mKeyError\u001b[0m: 'ProfilePage'"
     ]
    }
   ],
   "source": [
    "# Connecting the profile\n",
    "user = InstagramUser(\"renman1001\")\n",
    " \n",
    "# printing the basic details like\n",
    "# followers, following, bio\n",
    "print(user.is_verified())\n",
    "print(user.popularity())\n",
    "print(user.get_biography())\n",
    " \n",
    "# return list of dicts\n",
    "posts = user.get_posts_details()\n",
    " \n",
    "print('\\n\\nLikes', 'Comments')\n",
    "for post in posts:\n",
    "    likes = post[\"likes\"]\n",
    "    comments = post[\"comment\"]\n",
    "    print(likes,comments)"
   ]
  },
  {
   "cell_type": "code",
   "execution_count": 11,
   "metadata": {},
   "outputs": [
    {
     "ename": "ImportError",
     "evalue": "cannot import name 'Instalysis' from 'instagramy' (c:\\Users\\renji\\anaconda3\\envs\\Ironhack\\lib\\site-packages\\instagramy\\__init__.py)",
     "output_type": "error",
     "traceback": [
      "\u001b[1;31m---------------------------------------------------------------------------\u001b[0m",
      "\u001b[1;31mImportError\u001b[0m                               Traceback (most recent call last)",
      "Cell \u001b[1;32mIn [11], line 1\u001b[0m\n\u001b[1;32m----> 1\u001b[0m \u001b[39mfrom\u001b[39;00m \u001b[39minstagramy\u001b[39;00m \u001b[39mimport\u001b[39;00m Instalysis\n\u001b[0;32m      3\u001b[0m \u001b[39m# Instagram user_id of ipl teams\u001b[39;00m\n\u001b[0;32m      4\u001b[0m teams \u001b[39m=\u001b[39m [\u001b[39m\"\u001b[39m\u001b[39mchennaiipl\u001b[39m\u001b[39m\"\u001b[39m, \u001b[39m\"\u001b[39m\u001b[39mmumbaiindians\u001b[39m\u001b[39m\"\u001b[39m,\n\u001b[0;32m      5\u001b[0m          \u001b[39m\"\u001b[39m\u001b[39mroyalchallengersbangalore\u001b[39m\u001b[39m\"\u001b[39m, \u001b[39m\"\u001b[39m\u001b[39mkkriders\u001b[39m\u001b[39m\"\u001b[39m,\n\u001b[0;32m      6\u001b[0m          \u001b[39m\"\u001b[39m\u001b[39mdelhicapitals\u001b[39m\u001b[39m\"\u001b[39m, \u001b[39m\"\u001b[39m\u001b[39msunrisershyd\u001b[39m\u001b[39m\"\u001b[39m,\n\u001b[0;32m      7\u001b[0m          \u001b[39m\"\u001b[39m\u001b[39mkxipofficial\u001b[39m\u001b[39m\"\u001b[39m]\n",
      "\u001b[1;31mImportError\u001b[0m: cannot import name 'Instalysis' from 'instagramy' (c:\\Users\\renji\\anaconda3\\envs\\Ironhack\\lib\\site-packages\\instagramy\\__init__.py)"
     ]
    }
   ],
   "source": [
    "from instagramy import Instalysis\n",
    " \n",
    "# Instagram user_id of ipl teams\n",
    "teams = [\"chennaiipl\", \"mumbaiindians\",\n",
    "         \"royalchallengersbangalore\", \"kkriders\",\n",
    "         \"delhicapitals\", \"sunrisershyd\",\n",
    "         \"kxipofficial\"]\n",
    " \n",
    "data = Instalysis(teams)\n",
    " \n",
    "# return the dataframe\n",
    "data_frame = data.analysis()\n",
    "data_frame\n"
   ]
  },
  {
   "cell_type": "code",
   "execution_count": 12,
   "metadata": {},
   "outputs": [],
   "source": [
    "import httpx"
   ]
  },
  {
   "cell_type": "code",
   "execution_count": 14,
   "metadata": {},
   "outputs": [
    {
     "ename": "NameError",
     "evalue": "name 'Optional' is not defined",
     "output_type": "error",
     "traceback": [
      "\u001b[1;31m---------------------------------------------------------------------------\u001b[0m",
      "\u001b[1;31mNameError\u001b[0m                                 Traceback (most recent call last)",
      "Cell \u001b[1;32mIn [14], line 1\u001b[0m\n\u001b[1;32m----> 1\u001b[0m \u001b[39mdef\u001b[39;00m \u001b[39mscrape_hashtag\u001b[39m(hashtag: \u001b[39mstr\u001b[39m, session: httpx\u001b[39m.\u001b[39mAsyncClient, page_size\u001b[39m=\u001b[39m\u001b[39m12\u001b[39m, page_limit: Optional[\u001b[39mint\u001b[39m] \u001b[39m=\u001b[39m \u001b[39mNone\u001b[39;00m):\n\u001b[0;32m      2\u001b[0m     \u001b[39m\"\"\"scrape user's post data\"\"\"\u001b[39;00m\n\u001b[0;32m      3\u001b[0m     base_url \u001b[39m=\u001b[39m \u001b[39m\"\u001b[39m\u001b[39mhttps://www.instagram.com/graphql/query/?query_hash=174a5243287c5f3a7de741089750ab3b&variables=\u001b[39m\u001b[39m\"\u001b[39m\n",
      "\u001b[1;31mNameError\u001b[0m: name 'Optional' is not defined"
     ]
    }
   ],
   "source": [
    "def scrape_hashtag(hashtag: str, session: httpx.AsyncClient, page_size=12, page_limit: Optional[int] = None):\n",
    "    \"\"\"scrape user's post data\"\"\"\n",
    "    base_url = \"https://www.instagram.com/graphql/query/?query_hash=174a5243287c5f3a7de741089750ab3b&variables=\"\n",
    "    variables = {\n",
    "        \"tag_name\": hashtag,\n",
    "        \"first\": page_size,\n",
    "        \"after\": None,\n",
    "    }\n",
    "    page = 1\n",
    "    while True:\n",
    "        result = session.get(base_url + quote(json.dumps(variables)))\n",
    "        posts = json.loads(result.content)[\"data\"][\"hashtag\"][\"edge_hashtag_to_media\"]\n",
    "        for post in posts['edges']:\n",
    "            yield post[\"node\"]\n",
    "        page_info = posts[\"page_info\"]\n",
    "        if not page_info[\"has_next_page\"]:\n",
    "            break\n",
    "        variables[\"after\"] = page_info[\"end_cursor\"]\n",
    "        page += 1\n",
    "        if page > page_limit:\n",
    "            break"
   ]
  },
  {
   "cell_type": "code",
   "execution_count": 15,
   "metadata": {},
   "outputs": [
    {
     "ename": "NameError",
     "evalue": "name 'scrape_user' is not defined",
     "output_type": "error",
     "traceback": [
      "\u001b[1;31m---------------------------------------------------------------------------\u001b[0m",
      "\u001b[1;31mNameError\u001b[0m                                 Traceback (most recent call last)",
      "Cell \u001b[1;32mIn [15], line 5\u001b[0m\n\u001b[0;32m      1\u001b[0m \u001b[39mif\u001b[39;00m \u001b[39m__name__\u001b[39m \u001b[39m==\u001b[39m \u001b[39m\"\u001b[39m\u001b[39m__main__\u001b[39m\u001b[39m\"\u001b[39m:\n\u001b[0;32m      2\u001b[0m     \u001b[39mwith\u001b[39;00m httpx\u001b[39m.\u001b[39mClient(\n\u001b[0;32m      3\u001b[0m         timeout\u001b[39m=\u001b[39mhttpx\u001b[39m.\u001b[39mTimeout(\u001b[39m20.0\u001b[39m),\n\u001b[0;32m      4\u001b[0m     ) \u001b[39mas\u001b[39;00m session:\n\u001b[1;32m----> 5\u001b[0m         user \u001b[39m=\u001b[39m scrape_user(\u001b[39m\"\u001b[39m\u001b[39mgoogle\u001b[39m\u001b[39m\"\u001b[39m, session)\n",
      "\u001b[1;31mNameError\u001b[0m: name 'scrape_user' is not defined"
     ]
    }
   ],
   "source": [
    "if __name__ == \"__main__\":\n",
    "    with httpx.Client(\n",
    "        timeout=httpx.Timeout(20.0),\n",
    "    ) as session:\n",
    "        user = scrape_user(\"google\", session)"
   ]
  },
  {
   "cell_type": "code",
   "execution_count": 13,
   "metadata": {},
   "outputs": [
    {
     "ename": "NameError",
     "evalue": "name 'ScrapflyClient' is not defined",
     "output_type": "error",
     "traceback": [
      "\u001b[1;31m---------------------------------------------------------------------------\u001b[0m",
      "\u001b[1;31mNameError\u001b[0m                                 Traceback (most recent call last)",
      "Cell \u001b[1;32mIn [13], line 1\u001b[0m\n\u001b[1;32m----> 1\u001b[0m \u001b[39mdef\u001b[39;00m \u001b[39mscrape_user\u001b[39m(username: \u001b[39mstr\u001b[39m, session: ScrapflyClient):\n\u001b[0;32m      2\u001b[0m     \u001b[39m\"\"\"scrape user's data\"\"\"\u001b[39;00m\n\u001b[0;32m      3\u001b[0m     result \u001b[39m=\u001b[39m session\u001b[39m.\u001b[39mscrape(ScrapeConfig(\n\u001b[0;32m      4\u001b[0m         url\u001b[39m=\u001b[39m\u001b[39mf\u001b[39m\u001b[39m\"\u001b[39m\u001b[39mhttps://i.instagram.com/api/v1/users/web_profile_info/?username=\u001b[39m\u001b[39m{\u001b[39;00musername\u001b[39m}\u001b[39;00m\u001b[39m\"\u001b[39m, \n\u001b[0;32m      5\u001b[0m         headers\u001b[39m=\u001b[39m{\u001b[39m\"\u001b[39m\u001b[39mx-ig-app-id\u001b[39m\u001b[39m\"\u001b[39m: \u001b[39m\"\u001b[39m\u001b[39m936619743392459\u001b[39m\u001b[39m\"\u001b[39m},\n\u001b[0;32m      6\u001b[0m         asp\u001b[39m=\u001b[39m\u001b[39mTrue\u001b[39;00m\n\u001b[0;32m      7\u001b[0m     ))\n",
      "\u001b[1;31mNameError\u001b[0m: name 'ScrapflyClient' is not defined"
     ]
    }
   ],
   "source": [
    "def scrape_user(username: str, session: ScrapflyClient):\n",
    "    \"\"\"scrape user's data\"\"\"\n",
    "    result = session.scrape(ScrapeConfig(\n",
    "        url=f\"https://i.instagram.com/api/v1/users/web_profile_info/?username={username}\", \n",
    "        headers={\"x-ig-app-id\": \"936619743392459\"},\n",
    "        asp=True\n",
    "    ))\n",
    "    data = json.loads(result.content)\n",
    "    return data['data']['user']"
   ]
  },
  {
   "cell_type": "code",
   "execution_count": 19,
   "metadata": {},
   "outputs": [
    {
     "ename": "KeyError",
     "evalue": "'ProfilePage'",
     "output_type": "error",
     "traceback": [
      "\u001b[1;31m---------------------------------------------------------------------------\u001b[0m",
      "\u001b[1;31mKeyError\u001b[0m                                  Traceback (most recent call last)",
      "Cell \u001b[1;32mIn [19], line 5\u001b[0m\n\u001b[0;32m      1\u001b[0m \u001b[39mfrom\u001b[39;00m \u001b[39minstagramy\u001b[39;00m \u001b[39mimport\u001b[39;00m InstagramUser\n\u001b[0;32m      3\u001b[0m session_id \u001b[39m=\u001b[39m \u001b[39m\"\u001b[39m\u001b[39mYznmmgALAAGZ5-_qRgipiQFkGeC\u001b[39m\u001b[39m\"\u001b[39m\n\u001b[1;32m----> 5\u001b[0m user \u001b[39m=\u001b[39m InstagramUser(\u001b[39m'\u001b[39;49m\u001b[39mrenman1001\u001b[39;49m\u001b[39m'\u001b[39;49m, sessionid\u001b[39m=\u001b[39;49msession_id)\n\u001b[0;32m      7\u001b[0m user\u001b[39m.\u001b[39mis_verified\n\u001b[0;32m      9\u001b[0m user\u001b[39m.\u001b[39mbiography\n",
      "File \u001b[1;32mc:\\Users\\renji\\anaconda3\\envs\\Ironhack\\lib\\site-packages\\instagramy\\InstagramUser.py:63\u001b[0m, in \u001b[0;36mInstagramUser.__init__\u001b[1;34m(self, username, sessionid, from_cache)\u001b[0m\n\u001b[0;32m     60\u001b[0m \u001b[39melse\u001b[39;00m:\n\u001b[0;32m     61\u001b[0m     data \u001b[39m=\u001b[39m \u001b[39mself\u001b[39m\u001b[39m.\u001b[39mget_json()\n\u001b[0;32m     62\u001b[0m     cache\u001b[39m.\u001b[39mmake_cache(\n\u001b[1;32m---> 63\u001b[0m         username, data[\u001b[39m\"\u001b[39;49m\u001b[39mentry_data\u001b[39;49m\u001b[39m\"\u001b[39;49m][\u001b[39m\"\u001b[39;49m\u001b[39mProfilePage\u001b[39;49m\u001b[39m\"\u001b[39;49m][\u001b[39m0\u001b[39m][\u001b[39m\"\u001b[39m\u001b[39mgraphql\u001b[39m\u001b[39m\"\u001b[39m][\u001b[39m\"\u001b[39m\u001b[39muser\u001b[39m\u001b[39m\"\u001b[39m]\n\u001b[0;32m     64\u001b[0m     )\n\u001b[0;32m     65\u001b[0m     \u001b[39mtry\u001b[39;00m:\n\u001b[0;32m     66\u001b[0m         \u001b[39mself\u001b[39m\u001b[39m.\u001b[39muser_data \u001b[39m=\u001b[39m data[\u001b[39m\"\u001b[39m\u001b[39mentry_data\u001b[39m\u001b[39m\"\u001b[39m][\u001b[39m\"\u001b[39m\u001b[39mProfilePage\u001b[39m\u001b[39m\"\u001b[39m][\u001b[39m0\u001b[39m][\u001b[39m\"\u001b[39m\u001b[39mgraphql\u001b[39m\u001b[39m\"\u001b[39m][\u001b[39m\"\u001b[39m\u001b[39muser\u001b[39m\u001b[39m\"\u001b[39m]\n",
      "\u001b[1;31mKeyError\u001b[0m: 'ProfilePage'"
     ]
    }
   ],
   "source": [
    "from instagramy import InstagramUser\n",
    "\n",
    "session_id = \"YznmmgALAAGZ5-_qRgipiQFkGeC\"\n",
    "\n",
    "user = InstagramUser('renman1001', sessionid=session_id)\n",
    "\n",
    "user.is_verified\n",
    "\n",
    "user.biography\n",
    "\n",
    "user.user_data # More data about user as dict"
   ]
  },
  {
   "cell_type": "code",
   "execution_count": null,
   "metadata": {},
   "outputs": [],
   "source": []
  }
 ],
 "metadata": {
  "kernelspec": {
   "display_name": "Python 3.9.13 ('Ironhack')",
   "language": "python",
   "name": "python3"
  },
  "language_info": {
   "codemirror_mode": {
    "name": "ipython",
    "version": 3
   },
   "file_extension": ".py",
   "mimetype": "text/x-python",
   "name": "python",
   "nbconvert_exporter": "python",
   "pygments_lexer": "ipython3",
   "version": "3.9.13"
  },
  "orig_nbformat": 4,
  "vscode": {
   "interpreter": {
    "hash": "854afc56d03903cb43ce0c2669a823476d92c4ce89f442894441f6714fb107d5"
   }
  }
 },
 "nbformat": 4,
 "nbformat_minor": 2
}
